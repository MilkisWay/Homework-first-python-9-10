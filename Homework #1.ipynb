{
 "cells": [
  {
   "cell_type": "code",
   "execution_count": null,
   "id": "23d5e7d9",
   "metadata": {},
   "outputs": [],
   "source": [
    "def f(n):return n*2\n",
    "\n",
    "a=[0, 1, 2, \"fuh\", 4]\n",
    "c=[f(i) for i in a]\n",
    "print(c)"
   ]
  },
  {
   "cell_type": "code",
   "execution_count": null,
   "id": "fbe5b97f",
   "metadata": {},
   "outputs": [],
   "source": [
    "def my_map(function, *objects):\n",
    "    return [function(*x) for x in list(zip(*objects))]\n",
    "try:\n",
    "    print(my_map())\n",
    "except Exception:\n",
    "    print('Ошибка')"
   ]
  }
 ],
 "metadata": {
  "kernelspec": {
   "display_name": "Python 3",
   "language": "python",
   "name": "python3"
  },
  "language_info": {
   "codemirror_mode": {
    "name": "ipython",
    "version": 3
   },
   "file_extension": ".py",
   "mimetype": "text/x-python",
   "name": "python",
   "nbconvert_exporter": "python",
   "pygments_lexer": "ipython3",
   "version": "3.8.8"
  }
 },
 "nbformat": 4,
 "nbformat_minor": 5
}
