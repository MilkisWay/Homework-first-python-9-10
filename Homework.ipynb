{
 "cells": [
  {
   "cell_type": "code",
   "execution_count": 145,
   "id": "18419a74",
   "metadata": {},
   "outputs": [
    {
     "name": "stdout",
     "output_type": "stream",
     "text": [
      "Ошибка\n"
     ]
    }
   ],
   "source": [
    "#number1\n",
    "def my_map(function, *objects):\n",
    "    return [function(*x) for x in list(zip(*objects))]\n",
    "try:\n",
    "    print(my_map())\n",
    "except Exception:\n",
    "    print('Ошибка')"
   ]
  },
  {
   "cell_type": "code",
   "execution_count": 1,
   "id": "a12b1820",
   "metadata": {},
   "outputs": [
    {
     "name": "stdout",
     "output_type": "stream",
     "text": [
      "2 3\n",
      "[[0. 2. 3.]\n",
      " [1. 4. 5.]]\n"
     ]
    }
   ],
   "source": [
    "#number 2\n",
    "import numpy as np\n",
    "\n",
    "\n",
    "def snake(n,m):\n",
    "    arr=np.zeros((n,m))#матрица размером n*m из нулей\n",
    "    i,j,val = 0,0,0\n",
    "    while val<n*m:#пока вся матрица не заполнена\n",
    "        arr[i][j]=val #присвоить элементу значение\n",
    "        i,j=i+1,j-1\n",
    "        if i>n-1:\n",
    "            arr=arr.T\n",
    "            i,j=j+2,i-1\n",
    "            n,m=m,n\n",
    "        elif j<0:\n",
    "            arr=arr.T\n",
    "            i,j=0,i\n",
    "            n,m=m,n\n",
    "        val+=1\n",
    "    return arr\n",
    "\n",
    "try:\n",
    "    n,m =map(int,input().split())\n",
    "    print(snake(n,m)) \n",
    "except ValueError:\n",
    "    print('Неправильный ввод')"
   ]
  },
  {
   "cell_type": "code",
   "execution_count": 2,
   "id": "cc88a671",
   "metadata": {},
   "outputs": [
    {
     "name": "stdout",
     "output_type": "stream",
     "text": [
      "2 2\n",
      "00\n",
      "01\n",
      "10\n",
      "11\n"
     ]
    }
   ],
   "source": [
    "#number 3 \n",
    "try:\n",
    "    n,m=map(int,input().split()) #создаём массив нулей из строк длины n в количестве m**n\n",
    "    if m==0 or n==0:\n",
    "        raise ValueError\n",
    "    k=0\n",
    "    if m>9:\n",
    "        for i in range(10,m):\n",
    "            dict_1[i]=chr(ord(\"A\")+k)\n",
    "            k+=1\n",
    "    length= m**n\n",
    "    a=[[0 for j in range(n)] for i in range(length)]\n",
    "    for i in range(1,length):\n",
    "        val = i\n",
    "        for j in range(n-1,-1,-1):\n",
    "            if val%m>9:\n",
    "                a[i][j]=dict_1[val%m]\n",
    "                val=val//m\n",
    "            else:\n",
    "                a[i][j]=val%m\n",
    "                val=val//m\n",
    "    for i in a:\n",
    "        for j in i:\n",
    "            print(j,end='')\n",
    "        print()\n",
    "except ValueError:\n",
    "    print('Неправильный ввод')\n"
   ]
  },
  {
   "cell_type": "code",
   "execution_count": null,
   "id": "1f95e7f5",
   "metadata": {},
   "outputs": [],
   "source": [
    "### number 4\n",
    "try:\n",
    "    s=input()\n",
    "    n=int(input())\n",
    "    if len(s)%n==0 and ((s[0:n+1])*2==s):\n",
    "        print(s[0:n+1])\n",
    "    else:\n",
    "        print('impossible')\n",
    "except TypeError:\n",
    "    print('Это не число. Выходим.')\n",
    "except ValueError:\n",
    "    print('Это не число. Выходим.')"
   ]
  },
  {
   "cell_type": "code",
   "execution_count": 75,
   "id": "e21baf2b",
   "metadata": {},
   "outputs": [
    {
     "name": "stdout",
     "output_type": "stream",
     "text": [
      "/Users/milan/PycharmProjects/pythonProject1/main.py\n",
      "File exists\n"
     ]
    }
   ],
   "source": [
    "#number 5\n",
    "import pathlib \n",
    "import os\n",
    "\n",
    "def shorten_path(path):\n",
    "    full=path.split('/')\n",
    "    short=[]\n",
    "    try:\n",
    "        for elem in full:\n",
    "            if elem == \"..\" or elem == \".\" :\n",
    "                short.pop()\n",
    "            elif elem != \"..\" and elem != \".\" :\n",
    "                short.append(elem)\n",
    "        new_path ='/'.join(short)\n",
    "        print(new_path)\n",
    "        if os.path.exists(new_path):\n",
    "            print('File exists')\n",
    "        else:\n",
    "            print('File doesn`t exist')\n",
    "    except IndexError:\n",
    "        print('Impossible')\n",
    "        \n",
    "try:\n",
    "    my_path='/Users/milan/PycharmProjects/pythonProject1/main.py'\n",
    "    shorten_path(my_path)\n",
    "except ValueError:\n",
    "    print('Это не число. Выходим.') "
   ]
  },
  {
   "cell_type": "code",
   "execution_count": 25,
   "id": "aa0947ef",
   "metadata": {
    "scrolled": true
   },
   "outputs": [
    {
     "name": "stdout",
     "output_type": "stream",
     "text": [
      "3456472\n",
      "Start\n",
      "[1728236, 2]\n",
      "[864118, 4]\n",
      "[864118, 2, 2]\n",
      "[432059, 8]\n",
      "[432059, 4, 2]\n",
      "[432059, 2, 2, 2]\n",
      "End\n"
     ]
    }
   ],
   "source": [
    "from itertools import groupby\n",
    "def Add_Del(x, a, add_a):#два варианта переменных из Дел и от самой функции \n",
    "    for i in range(2, x//2+1):#ищем делители этого числа от 2 до половины\n",
    "        if x % i == 0:\n",
    "            forget=a[:-1]+[x // i, i] #разбиение делителя на более простые множетели в срезе a[:-1] получаем x//i из Дел\n",
    "            add_a+=[forget] #добавляем в а очередную группу множителей\n",
    "            Add_Del(i, forget, add_a)#снова проверяем существования более простых множителей\n",
    "\n",
    "def Del(x):\n",
    "    print('Start')\n",
    "    a = []#пустой массив а, который в итоге будет содержать нужную послед\n",
    "    for i in range(2, (x//2) + 1):#ищем делители этого числа от 2 до половины\n",
    "        if x % i == 0:\n",
    "            a=a + [[x//i, i]] #добавляем в а пару делителей числа\n",
    "            Add_Del(i, [x//i, i], a) #вызываем функцию дополнительного разбиения делителей                 \n",
    "    for i in a:\n",
    "        i = i.sort(reverse = True) #сортируем каждый элемент а по возрастанию, а потом и сам массив\n",
    "    a.sort(reverse = True)    \n",
    "    if a==[]: #проверка на простое число\n",
    "        print('Простое число') \n",
    "        return \"End\"\n",
    "    else:\n",
    "        b = [el for el, _ in groupby(a)] #удаление повторяющихся элементов\n",
    "        for i in b:print(i)\n",
    "        return \"End\"\n",
    "        \n",
    "try:\n",
    "    x = int(input())\n",
    "    if x==0:\n",
    "        raise ValueError\n",
    "    print(Del(x))\n",
    "except ValueError:\n",
    "    print('Wrong input') "
   ]
  }
 ],
 "metadata": {
  "kernelspec": {
   "display_name": "Python 3",
   "language": "python",
   "name": "python3"
  },
  "language_info": {
   "codemirror_mode": {
    "name": "ipython",
    "version": 3
   },
   "file_extension": ".py",
   "mimetype": "text/x-python",
   "name": "python",
   "nbconvert_exporter": "python",
   "pygments_lexer": "ipython3",
   "version": "3.8.8"
  }
 },
 "nbformat": 4,
 "nbformat_minor": 5
}
